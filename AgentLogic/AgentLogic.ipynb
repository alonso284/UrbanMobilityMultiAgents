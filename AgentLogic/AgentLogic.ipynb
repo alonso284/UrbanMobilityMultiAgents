{
  "nbformat": 4,
  "nbformat_minor": 0,
  "metadata": {
    "colab": {
      "provenance": [],
      "authorship_tag": "ABX9TyOSG+0Yf1QoKwZvK1I8AaCa"
    },
    "kernelspec": {
      "name": "python3",
      "display_name": "Python 3"
    },
    "language_info": {
      "name": "python"
    }
  },
  "cells": [
    {
      "cell_type": "code",
      "execution_count": null,
      "metadata": {
        "id": "zRp7tSe_ktn6"
      },
      "outputs": [],
      "source": []
    },
    {
      "cell_type": "code",
      "source": [],
      "metadata": {
        "id": "WoJB5hXtk7fW"
      },
      "execution_count": null,
      "outputs": []
    }
  ]
}